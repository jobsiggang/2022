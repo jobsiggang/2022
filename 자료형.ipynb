{
  "nbformat": 4,
  "nbformat_minor": 0,
  "metadata": {
    "colab": {
      "provenance": [],
      "collapsed_sections": [],
      "mount_file_id": "1cqqZ1TtMJq8AGqg4mpRPIT2Z-Qn6zK3H",
      "authorship_tag": "ABX9TyMN8goCEhJxb7uT3+BT9vVO",
      "include_colab_link": true
    },
    "kernelspec": {
      "name": "python3",
      "display_name": "Python 3"
    },
    "language_info": {
      "name": "python"
    }
  },
  "cells": [
    {
      "cell_type": "markdown",
      "metadata": {
        "id": "view-in-github",
        "colab_type": "text"
      },
      "source": [
        "<a href=\"https://colab.research.google.com/github/jobsiggang/2022/blob/main/%EC%9E%90%EB%A3%8C%ED%98%95.ipynb\" target=\"_parent\"><img src=\"https://colab.research.google.com/assets/colab-badge.svg\" alt=\"Open In Colab\"/></a>"
      ]
    },
    {
      "cell_type": "markdown",
      "source": [
        "튜플\n",
        "<tuple>\n",
        "● 구조 단순, 리스트에 비하여 접근 속도가 빠르다\n",
        "● 함수 튜플을 반환할 수 있다.\n",
        "● 튜플을 이용하여 데이터를 교환할 수 있다 a,b=b,a"
      ],
      "metadata": {
        "id": "iePB5DCEg_0d"
      }
    },
    {
      "cell_type": "code",
      "source": [
        "import math\n",
        "def calCircle(r):  #반지름이 r인 원의 넓이와 둘레를 동시에 반환하는 함수\n",
        "  area =math.pi * r* r\n",
        "  circum= 2 * math.pi *r\n",
        "  return area,circum #튜플을 반환함\n",
        "\n",
        "radius =float(input('원의 반지름을 입력하세요:'))\n",
        "(a, c) = calCircle(radius)\n",
        "print('원의 넓이는{:.2f}이고 원의 둘레는{:.2f}이다.'.format(a,c))\n"
      ],
      "metadata": {
        "colab": {
          "base_uri": "https://localhost:8080/"
        },
        "id": "IBzcbjHAeVvU",
        "outputId": "e43a44f8-8134-417d-f9e1-b32040cb382e"
      },
      "execution_count": 14,
      "outputs": [
        {
          "output_type": "stream",
          "name": "stdout",
          "text": [
            "원의 반지름을 입력하세요:2\n",
            "원의 넓이는12.57이고 원의 둘레는12.57이다.\n"
          ]
        }
      ]
    },
    {
      "cell_type": "markdown",
      "source": [
        "문제: 서울, 부산, 인천, 광주, 대전의 인구를 가지고 있는 리스트 city_info가 있다. \n",
        "최대 인구를 가진 도시와 최소 인구를 가진 도시를 찾아보고 평균 인구도 구해보자.\n",
        "결과:             최대인구:서울, 인구:9765 천명\n",
        "                 최소인구:광주, 인구:1501 천명\n",
        "                 도시 평균인구 : 3838.4 천명\n",
        "                "
      ],
      "metadata": {
        "id": "OvQ3v9R1eSCY"
      }
    },
    {
      "cell_type": "code",
      "source": [
        "city_info=[('서울',9765),('부산',3441),('인천',2954),('광주',1501),('대전',1531)]\n",
        "\n",
        "max_pop=0\n",
        "min_pop=9999999999999999\n",
        "total_pop=0\n",
        "max_city=None\n",
        "\n",
        "for city in city_info:\n",
        "  total_pop=total_pop+city[1]\n",
        "  if city[1]>max_pop:\n",
        "    max_pop=city[1]\n",
        "    max_city=city\n",
        "  if city[1]<min_pop:\n",
        "    min_pop=city[1]\n",
        "    min_city=city\n",
        "\n",
        "print(\"최대인구:{}, 인구:{} 천명\".format(max_city[0],max_city[1]))\n",
        "print('최소인구:{}, 인구:{} 천명'.format(min_city[0],min_city[1]))\n",
        "print('도시 평균인구 : {} 천명'.format(total_pop/len(city_info)))"
      ],
      "metadata": {
        "colab": {
          "base_uri": "https://localhost:8080/"
        },
        "id": "5xRgwd7IcxkE",
        "outputId": "c32e06cd-0af4-4e19-82d1-dedc3813fdf2"
      },
      "execution_count": 8,
      "outputs": [
        {
          "output_type": "stream",
          "name": "stdout",
          "text": [
            "hh\n",
            "초대인구서울\n",
            "최대인구:서울, 인구:9765 천명\n",
            "최소인구:광주, 인구:1501 천명\n",
            "도시 평균인구 : 3838.4 천명\n"
          ]
        }
      ]
    },
    {
      "cell_type": "markdown",
      "source": [
        "딕셔너리\n",
        "<dictionary>\n",
        "- 딕셔너리에서 key-value 쌍으로 이루어진다.\n",
        "- 딕셔너리를 키를 이용하여 항목에 접근한다."
      ],
      "metadata": {
        "id": "dG2sbI-IhKaf"
      }
    },
    {
      "cell_type": "markdown",
      "source": [
        "과제) 대현고 매점 재고 관리 프로그램을 만들어 보자"
      ],
      "metadata": {
        "id": "CetHxKnEhqUH"
      }
    },
    {
      "cell_type": "code",
      "source": [
        "def item_in():\n",
        "    global items #global 전역변수로 사용\n",
        "    s=input('물품명:물품개수 형식으로 입력해 주세요')\n",
        "  \n",
        "    i=s.split(':') # 문자열을 : 로 구분하여 리스트 반환\n",
        "\n",
        "    if len(i)==2:\n",
        "        name=i[0].strip() # 문자열의 공백 제거\n",
        "        items[name]=int(i[1])\n",
        "        print(name,':',items[name],'이 입고되었습니다')\n",
        "\n",
        "def item_out():\n",
        "    global items\n",
        "    name=input('출고할 물품명을 입력하세요:')\n",
        "    print(\"현재 재고는\",name,\":\",items[name],\"입니다\")\n",
        "    num=int(input(\"출고할 개수를 입력하세요:\"))\n",
        "    if(items[name]<num):\n",
        "        print(\"재고가 부족합니다\")\n",
        "    else: \n",
        "        items[name]=items[name]-num\n",
        "        print(\"남은 재고는\",name,\":\" ,items[name],\"입니다\")\n",
        "\n",
        "def item_print():\n",
        "    for key in items.keys():\n",
        "        print(key,\":\",items[key])\n",
        "\n",
        "items={}\n",
        "selected=None\n",
        "print(\"$$$$ 대현고 매점 재고 관리 프로그램 $$$$\")\n",
        "print(\" 메뉴를 선택하세요\")\n",
        "print(\" -----------------------------------------\")\n",
        "print(\"|  1) 입고  2) 출고   3) 조회  4) 종료   |\")\n",
        "print(\" -----------------------------------------\")\n",
        "selected =int(input())\n",
        "\n",
        "while(selected>0 and selected <4):\n",
        "    if selected==1:\n",
        "        item_in()\n",
        "    elif(selected==2):\n",
        "        item_out()\n",
        "    elif(selected==3):\n",
        "        item_print()\n",
        "    print(\"메뉴를 선택하세요\")\n",
        "    print(\"1) 입고  2) 출고   3) 조회  4) 종료\")\n",
        "    selected =int(input())\n",
        "  "
      ],
      "metadata": {
        "id": "5hMUSuKnIAES"
      },
      "execution_count": null,
      "outputs": []
    },
    {
      "cell_type": "markdown",
      "source": [
        "셑\n",
        "set\n",
        " - 수학의 집합과 비슷하며, 튜플과 달리 순서가 없는 자료형\n",
        " - 리스트로부터 집합 생성, 중복된 요소는 자동으로 제거\n",
        " - 비어있는 집합은 함수 사용 : numbers=set()\n",
        " - for in 반복문으로 각 요소에 접근한다.굵은 텍스트\n",
        " - 교집합, 합집합, 차집합, 대칭 차집합 연산 지원"
      ],
      "metadata": {
        "id": "UmF177y4idTA"
      }
    },
    {
      "cell_type": "code",
      "source": [
        "from google.colab import drive\n",
        "drive.mount('/content/drive')"
      ],
      "metadata": {
        "colab": {
          "base_uri": "https://localhost:8080/"
        },
        "id": "h00h0sgWE97I",
        "outputId": "db070dcf-7a6f-4c80-800f-f98a5052a30c"
      },
      "execution_count": null,
      "outputs": [
        {
          "output_type": "stream",
          "name": "stdout",
          "text": [
            "Drive already mounted at /content/drive; to attempt to forcibly remount, call drive.mount(\"/content/drive\", force_remount=True).\n"
          ]
        }
      ]
    },
    {
      "cell_type": "code",
      "execution_count": null,
      "metadata": {
        "colab": {
          "base_uri": "https://localhost:8080/"
        },
        "id": "iCLVIP4DExVZ",
        "outputId": "fda7ed51-2746-4839-e852-72e54df27430"
      },
      "outputs": [
        {
          "output_type": "stream",
          "name": "stdout",
          "text": [
            "입력파일 이름:/content/drive/MyDrive/text.txt\n",
            "사용된 단어의 개수= 145\n",
            "{'수', '발', '있다고', '봐요', '대한', 'life', 'possessions', '함께하는', 'you', '지옥이', '인간에', 'isnt', 'man', 'youll', 'say', '모르겠지만', '않는다고', '종교마저', '배고픔도', 'kill', 'brotherhood', '위에는', '이런', '있을지', '위해', 'imagime', '꾸는게', 'heaven', 'us', '보세요', 'people', 'be', 'it', '신념을', 'peace', 'can', '오직', 'no', 'im', '존재한다고', '살아간다고', '몽상가라고', '아하', '사람들이', 'or', '천국이', 'not', '밑에는', '나만', '모든', '빈', '하나가', '않고', 'hard', '없고', '아무도', '오늘을', '죽일', '평화속에', 'of', 'sky', '필요나', 'ahaa', '언젠가', '바랄께요', 'wonder', 'all', 'join', '숨쉰다고', '될', 'someday', 'theres', 'do', '또', 'only', '세상에', 'i', 'for', 'to', '하길', 'die', '그대', 'nor', '어렵지', '그다지', '이', '상상해', 'and', '하지만', 'above', 'world', '생각해', '거예요', 'sharing', '탐할', '어렵진', 'if', '하려고만', '죽이지도', '할', 'religion', 'below', '일도', 'one', 'dreamer', 'today', 'nothing', 'its', '하겠지요', '아니랍니다', '없다고', '머리', '소유하지', '나를', 'but', '우리의', 'hope', '꿈을', 'will', 'try', '함께', '펼쳐', '상상해봐요', '그러면', 'hell', '사랑만', 'imagine', 'need', 'easy', '우리와', 'hunger', 'a', 'too', 'may', 'in', '하면', '않을', 'greed', '하늘만', '세상은', 'living', '모습을', 'the', 'countries', '국가가'}\n"
          ]
        }
      ],
      "source": [
        "def process(w):\n",
        "  output=\"\"\n",
        "  for ch in w:\n",
        "    if ch.isalpha():\n",
        "      output+= ch\n",
        "  return output.lower()\n",
        "\n",
        "words=set()# 중복을 방지 하기 위해 집합 자료형에 단어를 넣어라\n",
        "fname=input(\"입력파일 이름:\")\n",
        "file=open(fname,'r') #읽기 파일 열기\n",
        "for line in file: # 파일의 모든 줄을 읽어 처리\n",
        "  lineWords =line.split() # 한줄을 빈칸으로 구분하여 리스트에 저장\n",
        "  for word in lineWords:\n",
        "    words.add(process(word)) #단어를 집합에 추가한다\n",
        "file.close() #파일 닫기\n",
        "print('사용된 단어의 개수=',len(words))\n",
        "print(words)\n",
        "file=open('words.txt','w') #쓰기 파일 열기\n",
        "for word in words:\n",
        "  file.write(word+\"\\n\") #한줄씩 파일쓰기\n",
        "file.close() #쓰기 파일 닫기"
      ]
    }
  ]
}