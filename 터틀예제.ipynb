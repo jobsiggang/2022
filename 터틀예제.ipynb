{
  "nbformat": 4,
  "nbformat_minor": 0,
  "metadata": {
    "colab": {
      "provenance": [],
      "collapsed_sections": [],
      "include_colab_link": true
    },
    "language_info": {
      "codemirror_mode": {
        "name": "ipython",
        "version": 3
      },
      "file_extension": ".py",
      "mimetype": "text/x-python",
      "name": "python",
      "nbconvert_exporter": "python",
      "pygments_lexer": "ipython3",
      "version": "3.7.3"
    },
    "kernelspec": {
      "display_name": "Python 3",
      "language": "python",
      "name": "python3"
    }
  },
  "cells": [
    {
      "cell_type": "markdown",
      "metadata": {
        "id": "view-in-github",
        "colab_type": "text"
      },
      "source": [
        "<a href=\"https://colab.research.google.com/github/jobsiggang/2022/blob/main/%ED%84%B0%ED%8B%80%EC%98%88%EC%A0%9C.ipynb\" target=\"_parent\"><img src=\"https://colab.research.google.com/assets/colab-badge.svg\" alt=\"Open In Colab\"/></a>"
      ]
    },
    {
      "cell_type": "markdown",
      "metadata": {
        "id": "7abIfnqokJce"
      },
      "source": [
        "# **생능 출판사 \"으뜸 파이썬\"(1판) 교재의 소스 코드**\n",
        "# *7장 모듈과 활용*\n",
        "## 주의 : 이 장의 코드 중에서 turtle 그래픽과 tkinter 기능은 colab 환경에서는 실행되지 않습니다.(코드를 다운받아 GUI 환경에서 파이썬 인터프리터를 통해 수행하십시오)\n",
        "---\n",
        "* 출판사 : 생능 출판사( http://www.booksr.co.kr/ )\n",
        "* 으뜸 파이썬 저자 : 박동규, 강영민 \n",
        "* 소스코드 저장소 : https://github.com/dongupak/Prime-Python\n",
        "* 저작권 : 본 주피터 노트북 코드는 자유롭게 배포가능하지만 위의 출판사, 저서, 저자표기와 함께 배포해 주십시오.\n",
        "--- "
      ]
    },
    {
      "cell_type": "markdown",
      "metadata": {
        "id": "BA2Nr3dWD47X"
      },
      "source": [
        "# 코드 7-10 : 터틀 그래픽의 setup(), forward(), left(), bye() 메소드\n",
        "## turtle_example.py"
      ]
    },
    {
      "cell_type": "code",
      "metadata": {
        "id": "9uOpHh_PD47Y"
      },
      "source": [
        "import turtle as t\n",
        "t.setup(width = 400, height = 400)\n",
        "for i in range(200):\n",
        "    t.forward(i)\n",
        "    t.left(93)\n",
        "\n",
        "t.done()"
      ],
      "execution_count": null,
      "outputs": []
    },
    {
      "cell_type": "markdown",
      "metadata": {
        "id": "2684YsdED47c"
      },
      "source": [
        "## 대화창 실습 : 터틀 모듈의 활용"
      ]
    },
    {
      "cell_type": "code",
      "metadata": {
        "id": "5mKDfqMID47d"
      },
      "source": [
        "import turtle as t\n",
        "t.setup(width = 400, height = 400)"
      ],
      "execution_count": null,
      "outputs": []
    },
    {
      "cell_type": "markdown",
      "metadata": {
        "id": "5JWxOiP0D47h"
      },
      "source": [
        "##  대화창 실습 : 터틀 모듈의 forward()와 left() 명령입력"
      ]
    },
    {
      "cell_type": "code",
      "metadata": {
        "id": "dOWU3baHD47i"
      },
      "source": [
        "import turtle as t\n",
        "t.setup(width = 400, height = 400)\n",
        "t.forward(100)\n",
        "t.left(90)\n",
        "t.forward(100)"
      ],
      "execution_count": null,
      "outputs": []
    },
    {
      "cell_type": "markdown",
      "metadata": {
        "id": "iyJYasHWD47m"
      },
      "source": [
        "## 대화창 실습 : 터틀 윈도우 종료 메소드 bye()"
      ]
    },
    {
      "cell_type": "code",
      "metadata": {
        "id": "W9K5-bWeD47n"
      },
      "source": [
        "import turtle as t\n",
        "t.setup(width = 400, height = 400)\n",
        "t.bye()"
      ],
      "execution_count": null,
      "outputs": []
    },
    {
      "cell_type": "markdown",
      "metadata": {
        "id": "Q24shPldD47t"
      },
      "source": [
        "## 대화창 실습 : shape() 메소드를 이용한 터틀 커서의 변경"
      ]
    },
    {
      "cell_type": "code",
      "metadata": {
        "id": "So5zqzbVD47u"
      },
      "source": [
        "import turtle as t\n",
        " t.shape(\"turtle\")"
      ],
      "execution_count": null,
      "outputs": []
    },
    {
      "cell_type": "markdown",
      "metadata": {
        "id": "uqlZuSezD47y"
      },
      "source": [
        "## 대화창 실습 : 터틀 커서의 크기 변경"
      ]
    },
    {
      "cell_type": "code",
      "metadata": {
        "id": "hwQPHVSMD47z"
      },
      "source": [
        "t.shapesize(2, 4)"
      ],
      "execution_count": null,
      "outputs": []
    },
    {
      "cell_type": "markdown",
      "metadata": {
        "id": "7hA2pRSdD475"
      },
      "source": [
        "# 코드 7-11 : 터틀 그래픽의 setup(), forward(), left(), bye() 명령\n",
        "## turtle_show1.py"
      ]
    },
    {
      "cell_type": "code",
      "metadata": {
        "id": "fOsmhOnbD476"
      },
      "source": [
        "import turtle as t\n",
        "t.setup(width = 400, height = 400)\n",
        "t.forward(100)\n",
        "t.left(90)\n",
        "t.forward(100)\n",
        "t.bye()  # 이 부분 때문에 윈도가 사라짐"
      ],
      "execution_count": null,
      "outputs": []
    },
    {
      "cell_type": "markdown",
      "metadata": {
        "id": "xEaVx-91D479"
      },
      "source": [
        "#  코드 7-12 : 터틀 그래픽의 setup(), forward(), left() 명령\n",
        "## turtle_show2.py"
      ]
    },
    {
      "cell_type": "code",
      "metadata": {
        "id": "A2pTi21yD47-"
      },
      "source": [
        "import turtle as t\n",
        "t.setup(width = 400, height = 400)\n",
        "t.forward(100)\n",
        "t.left(90)\n",
        "t.forward(100)\n",
        "# t.bye()"
      ],
      "execution_count": null,
      "outputs": []
    },
    {
      "cell_type": "markdown",
      "metadata": {
        "id": "cDQjVzhaD48B"
      },
      "source": [
        "#  코드 7-13 : 터틀 그래픽의 setup(), forward(), left(), bye() 함수\n",
        "## turtle_show3.py"
      ]
    },
    {
      "cell_type": "code",
      "metadata": {
        "id": "vfcEQD6dD48B"
      },
      "source": [
        "import turtle as t\n",
        "t.setup(width = 400, height = 400)\n",
        "t.forward(100)\n",
        "t.left(90)\n",
        "t.forward(100)\n",
        "t.done()       # 마우스 이벤트를 받기 위해 이벤트 루프로 진입하는 기능"
      ],
      "execution_count": null,
      "outputs": []
    },
    {
      "cell_type": "markdown",
      "metadata": {
        "id": "buQ5R5dyD48E"
      },
      "source": [
        "# 코드 7-14 : 터틀 그래픽의 setup(), forward(), left(), bye() 메소드\n",
        "## turtle_shape1.py"
      ]
    },
    {
      "cell_type": "code",
      "metadata": {
        "id": "bTo_z0U4D48H"
      },
      "source": [
        "import turtle as t\n",
        "\n",
        "t.shapesize(2,2)\n",
        "t.shape(\"turtle\")\n",
        "\n",
        "t.done()"
      ],
      "execution_count": null,
      "outputs": []
    },
    {
      "cell_type": "markdown",
      "metadata": {
        "id": "o-k9QBgeD48Q"
      },
      "source": [
        "# 코드 7-15 : forward() 명령을 사용한 직선 그리기\n",
        "## turtle_forward.py"
      ]
    },
    {
      "cell_type": "code",
      "metadata": {
        "id": "YbUUsfVUD48R"
      },
      "source": [
        "import turtle as t\n",
        "\n",
        "t.forward(200)\n",
        "t.done()"
      ],
      "execution_count": null,
      "outputs": []
    },
    {
      "cell_type": "markdown",
      "metadata": {
        "id": "ZScBRX3ED48U"
      },
      "source": [
        "# 코드 7-16 : forward() 명령과 left() 명령을 사용한 삼각형 그리기\n",
        "## turtle_triangle.py"
      ]
    },
    {
      "cell_type": "code",
      "metadata": {
        "id": "hJF4PfjdD48W"
      },
      "source": [
        "import turtle as t\n",
        "\n",
        "t.shape(\"turtle\")\n",
        "t.forward(100)      # 터틀을 헤딩 방향으로 100 픽셀 이동\n",
        "t.left(120)         # 터틀의 헤딩 방향을 왼쪽으로 120도 회전\n",
        "t.forward(100)      # 터틀을 헤딩 방향으로 100 픽셀 이동\n",
        "t.left(120)         # 터틀의 헤딩 방향을 왼쪽으로 120도 회전\n",
        "t.forward(100)      # 터틀을 헤딩 방향으로 100 픽셀 이동\n",
        "t.left(120)         # 터틀의 헤딩 방향을 왼쪽으로 120도 회전\n",
        "\n",
        "t.done()"
      ],
      "execution_count": null,
      "outputs": []
    },
    {
      "cell_type": "markdown",
      "metadata": {
        "id": "euUu80WVD48a"
      },
      "source": [
        "# 코드 7-17 : for 문을 사용한 삼각형 그리기\n",
        "## turtle_triangle_with_for.py"
      ]
    },
    {
      "cell_type": "code",
      "metadata": {
        "id": "TA48YP3dD48b"
      },
      "source": [
        "import turtle as t\n",
        "\n",
        "for _ in range(3):    # 아래의 기능을 세 번 반복\n",
        "    t.forward(100)    # 터틀을 헤딩 방향으로 100 픽셀 이동\n",
        "    t.left(120)       # 터틀의 헤딩 방향을 왼쪽으로 120도 회전\n",
        "\n",
        "t.done()"
      ],
      "execution_count": null,
      "outputs": []
    },
    {
      "cell_type": "markdown",
      "metadata": {
        "id": "fG8SI3l5D48e"
      },
      "source": [
        "# 코드 7-18 : for 반복문과 forward(), left() 메소드를 사용한 사각형 그리기\n",
        "## turtle_rect.py"
      ]
    },
    {
      "cell_type": "code",
      "metadata": {
        "id": "tgNns2NuD48e"
      },
      "source": [
        "import turtle as t\n",
        "\n",
        "for _ in range(4):\n",
        "    t.forward(100)\n",
        "    t.left(90)\n",
        "\n",
        "t.done()"
      ],
      "execution_count": null,
      "outputs": []
    },
    {
      "cell_type": "markdown",
      "metadata": {
        "id": "3uRKZ-WrD48k"
      },
      "source": [
        "# 코드 7-19 : forward(), left() 명령을 사용한 원 그리기\n",
        "## turtle_circle_with_for.py"
      ]
    },
    {
      "cell_type": "code",
      "metadata": {
        "id": "5WMiHNtXD48p"
      },
      "source": [
        "import turtle as t\n",
        "\n",
        "n = 100\n",
        "length = 5\n",
        "for i in range(n):\n",
        "    t.left(360/n)\n",
        "    t.forward(length)\n",
        "    \n",
        "t.done()"
      ],
      "execution_count": null,
      "outputs": []
    },
    {
      "cell_type": "markdown",
      "metadata": {
        "id": "2uXTYhraD48v"
      },
      "source": [
        "## 대화창 실습 : 원 그리기 메소드"
      ]
    },
    {
      "cell_type": "code",
      "metadata": {
        "id": "yEYFRADBD48v"
      },
      "source": [
        "import turtle as t\n",
        "t.circle(100)"
      ],
      "execution_count": null,
      "outputs": []
    },
    {
      "cell_type": "markdown",
      "metadata": {
        "id": "cIBSClynD48z"
      },
      "source": [
        "## 대화창 실습 : 크기가 다른 5개의 원 그리기"
      ]
    },
    {
      "cell_type": "code",
      "metadata": {
        "id": "k6vh7S8xD480"
      },
      "source": [
        "import turtle as t\n",
        "t.circle(10)    # 원 그리기는 디폴트 헤딩 방향을 기준으로 그린다\n",
        "t.circle(20)\n",
        "t.circle(30)\n",
        "t.circle(40)\n",
        "t.circle(50)"
      ],
      "execution_count": null,
      "outputs": []
    },
    {
      "cell_type": "markdown",
      "metadata": {
        "id": "_VRs64HtD483"
      },
      "source": [
        "## 대화창 실습 : 크기가 다른 5개의 원 그리기"
      ]
    },
    {
      "cell_type": "code",
      "metadata": {
        "id": "IEop4695D484"
      },
      "source": [
        "import turtle as t\n",
        "t.setheading(90)  # 헤딩 방향을 이동시킴 # 왼쪽 원 그리기\n",
        "t.circle(10)      # 왼쪽 원 그리기를 수행\n",
        "t.circle(20)\n",
        "t.circle(30)\n",
        "t.circle(40)\n",
        "t.circle(50)"
      ],
      "execution_count": null,
      "outputs": []
    },
    {
      "cell_type": "markdown",
      "metadata": {
        "id": "U1UZPeXhD487"
      },
      "source": [
        "# 코드 7-20 : circle() 명령을 이용한 여러 개의 원 그리기\n",
        "## turtle_circle.py"
      ]
    },
    {
      "cell_type": "code",
      "metadata": {
        "id": "FwdbikhQD488"
      },
      "source": [
        "import turtle as t\n",
        "\n",
        "t.setheading(90)  # 왼쪽 원 그리기\n",
        "for i in range(1, 11):\n",
        "    t.circle(10*i)    \n",
        "    \n",
        "t.setheading(270) # 오른쪽 원 그리기\n",
        "for i in range(1, 11):\n",
        "    t.circle(10*i)    \n",
        "t.done()"
      ],
      "execution_count": null,
      "outputs": []
    },
    {
      "cell_type": "markdown",
      "metadata": {
        "id": "6MObJEdWD48-"
      },
      "source": [
        "# 코드 7-21 : color(), begin_fill(), end_fill()을 이용한 색상 사각형 그리기 \n",
        "## turtle_filled_rect1.py"
      ]
    },
    {
      "cell_type": "code",
      "metadata": {
        "id": "pgMhI3vXD48_"
      },
      "source": [
        "import turtle as t\n",
        "\n",
        "t.color('blue')    # 파란색을 선택, 색값을 16진수 표현하기 #0000ff\n",
        "t.begin_fill()     # 내부를 채움\n",
        "for _ in range(4):\n",
        "    t.forward(100)\n",
        "    t.left(90)\n",
        "t.end_fill()       # 사각형 내부를 파란색으로 채워서 그리기\n",
        "\n",
        "t.done()"
      ],
      "execution_count": null,
      "outputs": []
    },
    {
      "cell_type": "markdown",
      "metadata": {
        "id": "TvCpuXCKD49B"
      },
      "source": [
        "# 코드 7-22 : 여러 개의 사각형 그리기\n",
        "## turtle_fill_rect2.py"
      ]
    },
    {
      "cell_type": "code",
      "metadata": {
        "id": "8Iz-azjKD49B"
      },
      "source": [
        "import turtle as t\n",
        "\n",
        "t.color('blue')\n",
        "t.begin_fill()\n",
        "for _ in range(4):\n",
        "    t.forward(100)\n",
        "    t.left(90)\n",
        "t.end_fill()       # 사각형 내부를 파란색으로 채워서 그리기\n",
        "\n",
        "t.setheading(90)\n",
        "t.color('red')\n",
        "t.begin_fill()\n",
        "for _ in range(4):\n",
        "    t.forward(100)\n",
        "    t.left(90)\n",
        "t.end_fill()       # 사각형 내부를 빨간색으로 채워서 그리기\n",
        "\n",
        "t.done()"
      ],
      "execution_count": null,
      "outputs": []
    },
    {
      "cell_type": "markdown",
      "metadata": {
        "id": "IbhzLPIKD49F"
      },
      "source": [
        "# 코드 7-23 : pencolor() 메소드를 이용한 패턴 만들기\n",
        "## turtle_color_rects.py"
      ]
    },
    {
      "cell_type": "code",
      "metadata": {
        "id": "VZGrDNbED49J"
      },
      "source": [
        "import turtle as t\n",
        "\n",
        "colors = ['red', 'green', 'blue', 'orange']\n",
        "for i in range(200):\n",
        "    t.pencolor(colors[i % 4])\n",
        "    t.forward(i)\n",
        "    t.left(93)\n",
        "\n",
        "turtle.done()"
      ],
      "execution_count": null,
      "outputs": []
    },
    {
      "cell_type": "markdown",
      "metadata": {
        "id": "oo8PRTEsD49M"
      },
      "source": [
        "# 코드 7-24 : goto(), penup(), pendown() 메소드\n",
        "## turtle_penup_pendown.py"
      ]
    },
    {
      "cell_type": "code",
      "metadata": {
        "id": "7HtEVoLmD49M"
      },
      "source": [
        "import turtle as t\n",
        "\n",
        "t.goto(80, 100)  # 1번\n",
        "t.penup()        # 2번\n",
        "t.goto(0, 100)   # 3번\n",
        "t.pendown()      # 4번\n",
        "t.goto(80, 0)    # 5번\n",
        "\n",
        "t.done()"
      ],
      "execution_count": null,
      "outputs": []
    },
    {
      "cell_type": "markdown",
      "metadata": {
        "id": "9LTImXAbD49O"
      },
      "source": [
        "# 코드 7-25 : 터틀 그래픽의 랜덤 플로팅\n",
        "## turtle_random.py"
      ]
    },
    {
      "cell_type": "code",
      "metadata": {
        "id": "E_8ptcEHD49R"
      },
      "source": [
        "import turtle as t\n",
        "import random as rd\n",
        "\n",
        "t.shape(\"circle\")\n",
        "d = 300\n",
        "for _ in range(40):\n",
        "    x = rd.randint(-d, d)\n",
        "    y = rd.randint(-d, d)\n",
        "    t.goto(x, y)\n",
        "    \n",
        "t.done()"
      ],
      "execution_count": null,
      "outputs": []
    },
    {
      "cell_type": "code",
      "metadata": {
        "id": "0Ed32puV2Z9C"
      },
      "source": [
        "import turtle\n",
        "\n",
        "창 = turtle.Screen()\n",
        "창.bgcolor(\"black\")\n",
        "\n",
        "연필 = turtle.Pen()\n",
        "색깔들 = [\"red\", \"yellow\", \"blue\",\"green\"]\n",
        "\n",
        "문자열 = [\"사과\", \"키위\", \"망고\",\"레몬\"]\n",
        "\n",
        "for x in range(1, 60):\n",
        "    연필.pencolor(색깔들[x % len(문자열)])\n",
        "    연필.penup()\n",
        "    연필.forward(x * 5)\n",
        "    연필.pendown()\n",
        "    연필.write(문자열[x % len(문자열)], font=(\"Arial\", int((x + 4) / 4), \"bold\"))\n",
        "    연필.left(360 / len(문자열) + 5)\n",
        "창.mainloop()"
      ],
      "execution_count": null,
      "outputs": []
    }
  ]
}