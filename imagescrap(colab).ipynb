{
  "nbformat": 4,
  "nbformat_minor": 0,
  "metadata": {
    "colab": {
      "provenance": [],
      "include_colab_link": true
    },
    "kernelspec": {
      "name": "python3",
      "display_name": "Python 3"
    },
    "language_info": {
      "name": "python"
    }
  },
  "cells": [
    {
      "cell_type": "markdown",
      "metadata": {
        "id": "view-in-github",
        "colab_type": "text"
      },
      "source": [
        "<a href=\"https://colab.research.google.com/github/jobsiggang/2022/blob/main/imagescrap(colab).ipynb\" target=\"_parent\"><img src=\"https://colab.research.google.com/assets/colab-badge.svg\" alt=\"Open In Colab\"/></a>"
      ]
    },
    {
      "cell_type": "code",
      "metadata": {
        "colab": {
          "base_uri": "https://localhost:8080/",
          "height": 35
        },
        "id": "j3BssbxaSqNq",
        "outputId": "3d95b105-9ab6-4667-fd2d-c71f583ccf0a"
      },
      "source": [
        "import platform\n",
        "platform.platform()"
      ],
      "execution_count": 1,
      "outputs": [
        {
          "output_type": "execute_result",
          "data": {
            "text/plain": [
              "'Linux-5.10.133+-x86_64-with-Ubuntu-18.04-bionic'"
            ],
            "application/vnd.google.colaboratory.intrinsic+json": {
              "type": "string"
            }
          },
          "metadata": {},
          "execution_count": 1
        }
      ]
    },
    {
      "cell_type": "code",
      "metadata": {
        "id": "EAGZRcOvDjKe"
      },
      "source": [
        "!pip install selenium # !은 현재 운영체제 셀 모드에서 명령어 사용\n",
        "!apt-get update       #우분투 최신 업데이트 확인\n",
        "!apt install chromium-chromedriver #크롬 드라이브 설치"
      ],
      "execution_count": null,
      "outputs": []
    },
    {
      "cell_type": "code",
      "metadata": {
        "id": "n_n-qCmUOFzW"
      },
      "source": [
        "from  google.colab import drive\n",
        "drive.mount('/gdrive')"
      ],
      "execution_count": null,
      "outputs": []
    },
    {
      "cell_type": "code",
      "metadata": {
        "id": "h7YVMB08Btb2"
      },
      "source": [
        "from urllib.request import urlretrieve # URL을 통해 여러 작업을 수행하는 모듈들의 패키지, urllib.request모듈의urlretrieve함수 임포트\n",
        "from urllib.parse import quote_plus#urllib.parse모듈의 quote_plus함수\n",
        "from bs4 import BeautifulSoup    # pip install bs4 설치필요, BeautifulSoup 모듈 임포트\n",
        "from selenium import webdriver   # pip install selenium 설치 필요,webdriver 임포트\n",
        "import os #os 모듈의 함수 임포트\n",
        "\n",
        "def createFolder(dir): #인자로 받은 매개변수dir의디렉토리 생성 없으면 만듦\n",
        "    try:\n",
        "        if not os.path.exists(dir):\n",
        "            os.makedirs(dir)\n",
        "    except OSError:\n",
        "        print('Error: Creating directory. '+dir)\n",
        "\n",
        "\n",
        "search = input(\"키워드를 입력하시오. \")\n",
        "# url='https://www.google.co.kr/search?tbm=isch&q='+search\n",
        "url='https://www.google.co.kr/search?tbm=isch&q={}'.format(quote_plus(search))\n",
        "# url = f'https://www.google.co.kr/search?tbm=isch&q={quote_plus(search)}'#f는 quote_plus()인자로 주어진 문자열에서 특수문자를 문자열로 변환\n",
        "print(url)\n",
        "# driver=webdriver.Chrome('chromedriver')\n",
        "\n",
        "##--colab 추가 부분 headless 모드--\n",
        "chrome_options = webdriver.ChromeOptions()\n",
        "chrome_options.add_argument('--headless')#크롬 옵션 만들기\n",
        "chrome_options.add_argument('--no-sandbox')\n",
        "chrome_options.add_argument('--disable-dev-shm-usage')\n",
        "driver = webdriver.Chrome('chromedriver', chrome_options=chrome_options)# 셀레늄 사용,크롬드라이버 옵션과 함께 설정,webdriver로 크롬제어어\n",
        "##--colab 추가 부분--\n",
        "\n",
        "driver.implicitly_wait(3) #페이지 로딩을 위해 웹 브라우저에서 기다림,셀레늄\n",
        "driver.get(url) #변수url에 저장된 주소로 브라우저 열기\n",
        "\n",
        "num=2\n",
        "for i in range(num):#2번 반복으로 데이터 수집량(시간) 늘이기\n",
        "    driver.execute_script(\"window.scrollBy(0,1000)\") #자바스크립트 실행\n",
        "\n",
        "html = driver.page_source #브라우저에 보이는 그대로의 HTML, 크롬 개발자 도구의 Element 탭 내용과 동일.\n",
        "soup = BeautifulSoup(html,'html.parser')\n",
        "img=soup.find_all('img',attrs={'class':'rg_i Q4LuWd'})# img = soup.select('.rg_i.Q4LuWd')\n",
        "#print(list(img))#img 내용을 출력하여 확인\n",
        "\n",
        "\n",
        "imgurl = []\n",
        "\n",
        "for i in img:\n",
        "    # print(i)#i의 내용 출력하여 확인\n",
        "    try:\n",
        "        imgurl.append(i.attrs[\"src\"])#i의 속성 중 src가 이미지 링크주소를 리스트에 추가\n",
        "    except KeyError: #예외 발생 src 속성 없으면 다른 속성값으로\n",
        "        imgurl.append(i.attrs[\"data-src\"]) \n",
        "\n",
        "n=0                    \n",
        "for i in imgurl:\n",
        "    n+=1\n",
        "    dir=\"../gdrive/MyDrive/aimages/\"+search  # 내 드라이브의 이미지 저장할 경로 설정\n",
        "    createFolder(dir)# 사용자 정의 함수 호출,위에 있음\n",
        "    urlretrieve(i, dir+\"/\"+search+str(n)+\".jpg\")#url를 로컬파일로  복사,파일이름은 일련번호 증가시켜 문자열로 지정\n",
        "driver.close() #크롬드라이버 닫기, \n",
        "print('파일개수:',n)\n",
        "                      \n"
      ],
      "execution_count": null,
      "outputs": []
    }
  ]
}