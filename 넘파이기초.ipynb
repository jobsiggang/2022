{
  "nbformat": 4,
  "nbformat_minor": 0,
  "metadata": {
    "colab": {
      "provenance": [],
      "collapsed_sections": [],
      "authorship_tag": "ABX9TyNW1Mi3K/MZwP3Qid1yNHDW",
      "include_colab_link": true
    },
    "kernelspec": {
      "name": "python3",
      "display_name": "Python 3"
    },
    "language_info": {
      "name": "python"
    }
  },
  "cells": [
    {
      "cell_type": "markdown",
      "metadata": {
        "id": "view-in-github",
        "colab_type": "text"
      },
      "source": [
        "<a href=\"https://colab.research.google.com/github/jobsiggang/2022/blob/main/%EB%84%98%ED%8C%8C%EC%9D%B4%EA%B8%B0%EC%B4%88.ipynb\" target=\"_parent\"><img src=\"https://colab.research.google.com/assets/colab-badge.svg\" alt=\"Open In Colab\"/></a>"
      ]
    },
    {
      "cell_type": "markdown",
      "source": [
        "**따라하며 배우는 파이썬과 데이터과학(생능출판사 2020)**\n",
        "강력한 넘파이 배열의 연산을 알아보자"
      ],
      "metadata": {
        "id": "mpMbHQW7Y5qo"
      }
    },
    {
      "cell_type": "code",
      "execution_count": null,
      "metadata": {
        "colab": {
          "base_uri": "https://localhost:8080/"
        },
        "id": "gw2hCYH7WlPW",
        "outputId": "295258cc-2825-41e2-eecb-1ced924ff767"
      },
      "outputs": [
        {
          "output_type": "stream",
          "name": "stdout",
          "text": [
            "[320 350 330]\n"
          ]
        }
      ],
      "source": [
        "import numpy as np \n",
        "salary = np.array([220, 250, 230])\n",
        "\n",
        "salary = salary + 100 \n",
        "print(salary)"
      ]
    },
    {
      "cell_type": "code",
      "source": [
        "import numpy as np "
      ],
      "metadata": {
        "id": "BwLGSnmzXZXF"
      },
      "execution_count": null,
      "outputs": []
    },
    {
      "cell_type": "code",
      "source": [
        "array_a = np.array([0, 1, 2, 3, 4, 5, 6, 7, 8, 9])\n",
        "print('실습 1 : array_a =', array_a)"
      ],
      "metadata": {
        "colab": {
          "base_uri": "https://localhost:8080/"
        },
        "id": "i9HY6LglWsrx",
        "outputId": "62c02dd5-3217-4955-f8c4-cf5ccc014672"
      },
      "execution_count": null,
      "outputs": [
        {
          "output_type": "stream",
          "name": "stdout",
          "text": [
            "실습 1 : array_a = [0 1 2 3 4 5 6 7 8 9]\n"
          ]
        }
      ]
    },
    {
      "cell_type": "code",
      "source": [
        "array_b = np.array(range(10))\n",
        "print('실습 2 : array_b =', array_b)"
      ],
      "metadata": {
        "colab": {
          "base_uri": "https://localhost:8080/"
        },
        "id": "G8cCuDInXcUQ",
        "outputId": "6264339e-a7d0-48ab-b5a4-be61b422257e"
      },
      "execution_count": null,
      "outputs": [
        {
          "output_type": "stream",
          "name": "stdout",
          "text": [
            "실습 2 : array_b = [0 1 2 3 4 5 6 7 8 9]\n"
          ]
        }
      ]
    },
    {
      "cell_type": "code",
      "source": [
        "array_c = np.array(range(0,10,2))\n",
        "print('실습 3 : array_c =', array_c)"
      ],
      "metadata": {
        "colab": {
          "base_uri": "https://localhost:8080/"
        },
        "id": "XizvYL3-XhCb",
        "outputId": "c27c318b-63f0-4f13-ebff-cdb50ad83a0a"
      },
      "execution_count": null,
      "outputs": [
        {
          "output_type": "stream",
          "name": "stdout",
          "text": [
            "실습 3 : array_c = [0 2 4 6 8]\n"
          ]
        }
      ]
    },
    {
      "cell_type": "code",
      "source": [
        "print('array_c의 shape :', array_c.shape)\n",
        "print('array_c의 ndim :', array_c.ndim)\n",
        "print('array_c의 dtype :', array_c.dtype)\n",
        "print('array_c의 size :', array_c.size)\n",
        "print('array_c의 itemsize :',array_c.itemsize)"
      ],
      "metadata": {
        "colab": {
          "base_uri": "https://localhost:8080/"
        },
        "id": "zISqbbCfXoAa",
        "outputId": "d0686753-6ef8-4d72-db83-b0cbe4eb13a8"
      },
      "execution_count": null,
      "outputs": [
        {
          "output_type": "stream",
          "name": "stdout",
          "text": [
            "array_c의 shape : (5,)\n",
            "array_c의 ndim : 1\n",
            "array_c의 dtype : int64\n",
            "array_c의 size : 5\n",
            "array_c의 itemsize : 8\n"
          ]
        }
      ]
    },
    {
      "cell_type": "markdown",
      "source": [
        "여러 사람의 BMI를 빠르고 간편하게 계산하기"
      ],
      "metadata": {
        "id": "FXQFYvfIYHw1"
      }
    },
    {
      "cell_type": "code",
      "source": [
        "import numpy as np \n",
        " \n",
        "heights = [ 1.83, 1.76, 1.69, 1.86, 1.77, 1.73 ] \n",
        "weights = [ 86, 74, 59, 95, 80, 68 ] \n",
        " \n",
        "np_heights = np.array(heights) \n",
        "np_weights = np.array(weights) \n",
        " \n",
        "bmi = np_weights/(np_heights**2) \n",
        "print('대상자들의 키:', np_heights)\n",
        "print('대상자들의 몸무게:', np_weights)\n",
        "print('대상자들의 BMI')\n",
        "print(bmi)"
      ],
      "metadata": {
        "colab": {
          "base_uri": "https://localhost:8080/"
        },
        "id": "HgL5-t9LXtgb",
        "outputId": "e83cde2d-cf90-4f4a-cf69-8d7767c56297"
      },
      "execution_count": null,
      "outputs": [
        {
          "output_type": "stream",
          "name": "stdout",
          "text": [
            "대상자들의 키: [1.83 1.76 1.69 1.86 1.77 1.73]\n",
            "대상자들의 몸무게: [86 74 59 95 80 68]\n",
            "대상자들의 BMI\n",
            "[25.68007405 23.88946281 20.65754    27.45982194 25.53544639 22.72043837]\n"
          ]
        }
      ]
    },
    {
      "cell_type": "markdown",
      "source": [
        "넘파이 배열의 형태 알아내고 슬라이싱하여 연산하기"
      ],
      "metadata": {
        "id": "2DJYMrV0YcNN"
      }
    },
    {
      "cell_type": "code",
      "source": [
        "import numpy as np \n",
        " \n",
        "x = np.array([[ 1.83, 1.76, 1.69, 1.86, 1.77, 1.73 ], \n",
        "              [ 86.0, 74.0, 59.0, 95.0, 80.0, 68.0 ]]) \n",
        "y = x[0:2, 1:3] \n",
        "z = x[0:2][1:3]\n",
        "\n",
        "print('x shape :', x.shape)\n",
        "print('y shape :', y.shape)\n",
        "print('z shape :', z.shape)\n",
        "print('z values = :', z)\n",
        "\n",
        "bmi = x[0] / x[1]**2\n",
        "print('BMI data')\n",
        "print(bmi)"
      ],
      "metadata": {
        "id": "oqqttJk6YE7K"
      },
      "execution_count": null,
      "outputs": []
    },
    {
      "cell_type": "markdown",
      "source": [
        "2차원 배열에서 특정 조건을 만족하는 행만 추출하기"
      ],
      "metadata": {
        "id": "i9ssg-zjYn5Y"
      }
    },
    {
      "cell_type": "code",
      "source": [
        "import numpy as np \n",
        "\n",
        "players = [[170, 76.4], \n",
        "           [183, 86.2], \n",
        "           [181, 78.5], \n",
        "           [176, 80.1]] \n",
        "\n",
        "np_players = np.array(players) \n",
        "\n",
        "print('몸무게가 80 이상인 선수 정보')\n",
        "print(np_players[ np_players[:, 1] >= 80.0 ])\n",
        "\n",
        "print('키가 180 이상인 선수 정보')\n",
        "print(np_players[ np_players[:, 0] >= 180.0 ])"
      ],
      "metadata": {
        "id": "oVvRiRclYo6e"
      },
      "execution_count": null,
      "outputs": []
    },
    {
      "cell_type": "markdown",
      "source": [
        "넘파이 인덱싱"
      ],
      "metadata": {
        "id": "N_9B3J1L5vip"
      }
    },
    {
      "cell_type": "code",
      "source": [
        "np_array=np.array([[1,2,3],[4,5,6,],[7,8,9]])"
      ],
      "metadata": {
        "id": "8jNT2By55zQ_"
      },
      "execution_count": null,
      "outputs": []
    },
    {
      "cell_type": "code",
      "source": [
        "print(np_array[0,0])"
      ],
      "metadata": {
        "colab": {
          "base_uri": "https://localhost:8080/"
        },
        "id": "UyRvH-m06FsO",
        "outputId": "9393ac25-f954-4220-8d65-6eda19d5c9b2"
      },
      "execution_count": null,
      "outputs": [
        {
          "output_type": "stream",
          "name": "stdout",
          "text": [
            "1\n"
          ]
        }
      ]
    },
    {
      "cell_type": "code",
      "source": [
        "print(np_array[2,-1])"
      ],
      "metadata": {
        "colab": {
          "base_uri": "https://localhost:8080/"
        },
        "id": "CE5w1KV86JXD",
        "outputId": "b236e58a-4bc6-4c75-db3b-9eb8371713b0"
      },
      "execution_count": null,
      "outputs": [
        {
          "output_type": "stream",
          "name": "stdout",
          "text": [
            "9\n"
          ]
        }
      ]
    },
    {
      "cell_type": "code",
      "source": [
        "np_array[0,0]=12\n",
        "print(np_array)"
      ],
      "metadata": {
        "colab": {
          "base_uri": "https://localhost:8080/"
        },
        "id": "xvJcy1bb6WxM",
        "outputId": "4190827d-03e7-45e7-d2bd-e6c272e50b7c"
      },
      "execution_count": null,
      "outputs": [
        {
          "output_type": "stream",
          "name": "stdout",
          "text": [
            "[[12  2  3]\n",
            " [ 4  5  6]\n",
            " [ 7  8  9]]\n"
          ]
        }
      ]
    },
    {
      "cell_type": "markdown",
      "source": [
        "넘파이 슬라이싱  "
      ],
      "metadata": {
        "id": "TD88FFAk74kr"
      }
    },
    {
      "cell_type": "code",
      "source": [
        "np_array=np.array([[1,2,3,4],[5,6,7,8],[9,10,11,12],[13,14,15,16]])\n",
        "np_array"
      ],
      "metadata": {
        "colab": {
          "base_uri": "https://localhost:8080/"
        },
        "id": "vOuFBleI683S",
        "outputId": "a3e2a646-a975-478b-817e-e546d521a91a"
      },
      "execution_count": null,
      "outputs": [
        {
          "output_type": "execute_result",
          "data": {
            "text/plain": [
              "array([[ 1,  2,  3,  4],\n",
              "       [ 5,  6,  7,  8],\n",
              "       [ 9, 10, 11, 12],\n",
              "       [13, 14, 15, 16]])"
            ]
          },
          "metadata": {},
          "execution_count": 34
        }
      ]
    },
    {
      "cell_type": "code",
      "source": [
        "print(np_array[0:2,2:4]) #1, 3에서 stop"
      ],
      "metadata": {
        "colab": {
          "base_uri": "https://localhost:8080/"
        },
        "id": "JJe3svgR78Fs",
        "outputId": "51774c33-2318-4ae2-a22e-d187f8de87aa"
      },
      "execution_count": null,
      "outputs": [
        {
          "output_type": "stream",
          "name": "stdout",
          "text": [
            "[[3 4]\n",
            " [7 8]]\n"
          ]
        }
      ]
    },
    {
      "cell_type": "code",
      "source": [
        "np_array[1,1:3]"
      ],
      "metadata": {
        "colab": {
          "base_uri": "https://localhost:8080/"
        },
        "id": "ZieNAchM_Up6",
        "outputId": "a4e0d060-7e90-44c2-a5ff-2ceaf4167f3a"
      },
      "execution_count": null,
      "outputs": [
        {
          "output_type": "execute_result",
          "data": {
            "text/plain": [
              "array([6, 7])"
            ]
          },
          "metadata": {},
          "execution_count": 26
        }
      ]
    },
    {
      "cell_type": "markdown",
      "source": [
        "* 파이썬 리스트 슬라이싱과 넘파이 스타일슬라이싱 차이"
      ],
      "metadata": {
        "id": "5j2AppnJ95UV"
      }
    },
    {
      "cell_type": "code",
      "source": [
        "print(np_array[::2][::2]) #두번 슬라이싱"
      ],
      "metadata": {
        "colab": {
          "base_uri": "https://localhost:8080/"
        },
        "id": "9HEN4SRz8iTC",
        "outputId": "82f3764c-ff20-41ae-e888-5100da07bb8e"
      },
      "execution_count": null,
      "outputs": [
        {
          "output_type": "stream",
          "name": "stdout",
          "text": [
            "[[1 2 3 4]]\n"
          ]
        }
      ]
    },
    {
      "cell_type": "code",
      "source": [
        "print(np_array[::2,::2]) # 행 슬라이싱: 0행, 2행 선택, 열슬라이싱 : 0열 2열 선택"
      ],
      "metadata": {
        "colab": {
          "base_uri": "https://localhost:8080/"
        },
        "id": "frpjESkG9MqL",
        "outputId": "7ae43cc4-df63-4b22-b1c5-ec81efba18e5"
      },
      "execution_count": null,
      "outputs": [
        {
          "output_type": "stream",
          "name": "stdout",
          "text": [
            "[[ 1  3]\n",
            " [ 9 11]]\n"
          ]
        }
      ]
    },
    {
      "cell_type": "code",
      "source": [
        "print(np_array[1::2,1::2]) "
      ],
      "metadata": {
        "colab": {
          "base_uri": "https://localhost:8080/"
        },
        "id": "UY6JhCV593mY",
        "outputId": "f50e9599-8f2f-4897-b436-3c241b8797dd"
      },
      "execution_count": null,
      "outputs": [
        {
          "output_type": "stream",
          "name": "stdout",
          "text": [
            "[[ 6  8]\n",
            " [14 16]]\n"
          ]
        }
      ]
    },
    {
      "cell_type": "code",
      "source": [],
      "metadata": {
        "id": "r77LHIHAAUBe"
      },
      "execution_count": null,
      "outputs": []
    },
    {
      "cell_type": "markdown",
      "source": [
        "특정 범위의 정수를 가지는 넘파이 배열만들기"
      ],
      "metadata": {
        "id": "7XU5diBBDRZa"
      }
    },
    {
      "cell_type": "code",
      "source": [
        "np.arange(5)"
      ],
      "metadata": {
        "colab": {
          "base_uri": "https://localhost:8080/"
        },
        "id": "xS2egSv9EPRF",
        "outputId": "909d9b0b-1d49-441b-b043-2909b52a3abf"
      },
      "execution_count": null,
      "outputs": [
        {
          "output_type": "execute_result",
          "data": {
            "text/plain": [
              "array([0, 1, 2, 3, 4])"
            ]
          },
          "metadata": {},
          "execution_count": 37
        }
      ]
    },
    {
      "cell_type": "markdown",
      "source": [
        "시작값부터 끝값까지 균일한 간격으로  지정된 개수 만큼 배열생성하는 linespace()함수"
      ],
      "metadata": {
        "id": "_3P14hQ4DReu"
      }
    },
    {
      "cell_type": "markdown",
      "source": [
        "배열의 형태를 바꾸는 reshape()함수와 flatten()함수\n"
      ],
      "metadata": {
        "id": "RGedf4hfDRVq"
      }
    }
  ]
}