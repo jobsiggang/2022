{
  "nbformat": 4,
  "nbformat_minor": 0,
  "metadata": {
    "colab": {
      "provenance": [],
      "authorship_tag": "ABX9TyPAxUhhasANlmMV9Q8po7vk",
      "include_colab_link": true
    },
    "kernelspec": {
      "name": "python3",
      "display_name": "Python 3"
    },
    "language_info": {
      "name": "python"
    }
  },
  "cells": [
    {
      "cell_type": "markdown",
      "metadata": {
        "id": "view-in-github",
        "colab_type": "text"
      },
      "source": [
        "<a href=\"https://colab.research.google.com/github/jobsiggang/2022/blob/main/sklearn2.ipynb\" target=\"_parent\"><img src=\"https://colab.research.google.com/assets/colab-badge.svg\" alt=\"Open In Colab\"/></a>"
      ]
    },
    {
      "cell_type": "code",
      "metadata": {
        "id": "zLhfwRWqLwEC"
      },
      "source": [
        "import numpy as np\n",
        "from  sklearn import linear_model\n",
        "import matplotlib.pyplot as plt \n",
        "regr= linear_model.LinearRegression()"
      ],
      "execution_count": null,
      "outputs": []
    },
    {
      "cell_type": "code",
      "metadata": {
        "colab": {
          "base_uri": "https://localhost:8080/"
        },
        "id": "Rk_W0_ymMWHS",
        "outputId": "7c8c01d8-a067-4897-9ca2-0801034febab"
      },
      "source": [
        "#남자는 0, 여자는 1을 넣어 차원을 추가 하였음\n",
        "X=[[164,1],[167,1],[165,0],[170,0],[179,0],[163,1],[159,0],[166,1]] # X는 대문자\n",
        "y=[43,48,47,66,67,50,52,44] #y값은 1차원 데이터\n",
        "regr.fit(X,y) #학습\n",
        "print('계수:',regr.coef_)\n",
        "print('절편:',regr.intercept_)\n",
        "print('점수:',regr.score(X,y))\n",
        "print('신선이와 대현이의 추정 몸무게 :',regr.predict([[166,1],[166,0]]))"
      ],
      "execution_count": null,
      "outputs": [
        {
          "output_type": "stream",
          "text": [
            "계수: [ 0.88542825 -8.87235818]\n",
            "절편: -90.97330367074522\n",
            "점수: 0.7404546306026769\n",
            "신선이와 대현이의 추정 몸무게 : [47.13542825 56.00778643]\n"
          ],
          "name": "stdout"
        }
      ]
    },
    {
      "cell_type": "markdown",
      "metadata": {
        "id": "7Cg5XfO3ORiv"
      },
      "source": []
    }
  ]
}